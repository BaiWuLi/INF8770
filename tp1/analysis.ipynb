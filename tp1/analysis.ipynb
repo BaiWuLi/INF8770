{
 "cells": [
  {
   "cell_type": "code",
   "execution_count": 7,
   "id": "9b738c8f",
   "metadata": {},
   "outputs": [],
   "source": [
    "import collections\n",
    "import heapq\n",
    "\n",
    "# -----------------------------\n",
    "# 1. Huffman coding\n",
    "# -----------------------------\n",
    "class HuffmanNode:\n",
    "    def __init__(self, char, freq):\n",
    "        self.char = char\n",
    "        self.freq = freq\n",
    "        self.left = None\n",
    "        self.right = None\n",
    "    \n",
    "    def __lt__(self, other):\n",
    "        return self.freq < other.freq\n",
    "\n",
    "def huffman_encode(text):\n",
    "    freq = collections.Counter(text)\n",
    "    heap = [HuffmanNode(ch, f) for ch, f in freq.items()]\n",
    "    heapq.heapify(heap)\n",
    "\n",
    "    while len(heap) > 1:\n",
    "        n1 = heapq.heappop(heap)\n",
    "        n2 = heapq.heappop(heap)\n",
    "        merged = HuffmanNode(None, n1.freq + n2.freq)\n",
    "        merged.left, merged.right = n1, n2\n",
    "        heapq.heappush(heap, merged)\n",
    "\n",
    "    codes = {}\n",
    "    def generate_codes(node, current=\"\"):\n",
    "        if node is None:\n",
    "            return\n",
    "        if node.char is not None:\n",
    "            codes[node.char] = current\n",
    "        generate_codes(node.left, current + \"0\")\n",
    "        generate_codes(node.right, current + \"1\")\n",
    "    generate_codes(heap[0])\n",
    "\n",
    "    encoded = \"\".join(codes[ch] for ch in text)\n",
    "    return encoded, codes\n",
    "\n",
    "# -----------------------------\n",
    "# 2. Byte Pair Encoding (BPE)\n",
    "# -----------------------------\n",
    "def bpe_encode(text, num_merges=50):\n",
    "    text = list(text)\n",
    "    for _ in range(num_merges):\n",
    "        # count pairs\n",
    "        pairs = collections.Counter(zip(text, text[1:]))\n",
    "        if not pairs:\n",
    "            break\n",
    "        best_pair = max(pairs, key=pairs.get)\n",
    "        new_symbol = \"\".join(best_pair)\n",
    "\n",
    "        # replace pair\n",
    "        new_text = []\n",
    "        i = 0\n",
    "        while i < len(text):\n",
    "            if i < len(text) - 1 and (text[i], text[i+1]) == best_pair:\n",
    "                new_text.append(new_symbol)\n",
    "                i += 2\n",
    "            else:\n",
    "                new_text.append(text[i])\n",
    "                i += 1\n",
    "        text = new_text\n",
    "    return text\n",
    "\n",
    "# -----------------------------\n",
    "# 3. LZW compression\n",
    "# -----------------------------\n",
    "def lzw_encode(text):\n",
    "    dict_size = 256\n",
    "    dictionary = {chr(i): i for i in range(dict_size)}\n",
    "\n",
    "    w = \"\"\n",
    "    result = []\n",
    "    for c in text:\n",
    "        wc = w + c\n",
    "        if wc in dictionary:\n",
    "            w = wc\n",
    "        else:\n",
    "            result.append(dictionary[w])\n",
    "            dictionary[wc] = dict_size\n",
    "            dict_size += 1\n",
    "            w = c\n",
    "    if w:\n",
    "        result.append(dictionary[w])\n",
    "    return result\n"
   ]
  },
  {
   "cell_type": "code",
   "execution_count": 8,
   "id": "9e3a6003",
   "metadata": {},
   "outputs": [
    {
     "name": "stdout",
     "output_type": "stream",
     "text": [
      "Taille originale : 4264 caractères\n",
      "Huffman : 2488 octets environ\n",
      "BPE : 1679 symboles (vs 4264 caractères)\n",
      "LZW : 1529 entiers\n"
     ]
    }
   ],
   "source": [
    "with open('data/text_code/code1.py') as f:\n",
    "    text = f.read()\n",
    "print(\"Taille originale :\", len(text), \"caractères\")\n",
    "huff_encoded, huff_codes = huffman_encode(text)\n",
    "print(\"Huffman :\", len(huff_encoded) // 8, \"octets environ\")\n",
    "\n",
    "bpe_encoded = bpe_encode(text, num_merges=100)\n",
    "print(\"BPE :\", len(bpe_encoded), \"symboles (vs\", len(text), \"caractères)\")\n",
    "\n",
    "lzw_encoded = lzw_encode(text)\n",
    "print(\"LZW :\", len(lzw_encoded), \"entiers\")"
   ]
  },
  {
   "cell_type": "code",
   "execution_count": 10,
   "id": "f5cdb718",
   "metadata": {},
   "outputs": [
    {
     "name": "stdout",
     "output_type": "stream",
     "text": [
      "Taille originale : 2830 caractères\n",
      "Huffman : 1552 octets environ\n",
      "BPE : 1398 symboles (vs 2830 caractères)\n"
     ]
    }
   ],
   "source": [
    "with open('data/text_natural/text_natural_1.txt') as f:\n",
    "    text = f.read()\n",
    "print(\"Taille originale :\", len(text), \"caractères\")\n",
    "huff_encoded, huff_codes = huffman_encode(text)\n",
    "print(\"Huffman :\", len(huff_encoded) // 8, \"octets environ\")\n",
    "\n",
    "bpe_encoded = bpe_encode(text, num_merges=100)\n",
    "print(\"BPE :\", len(bpe_encoded), \"symboles (vs\", len(text), \"caractères)\")\n",
    "\n",
    "#lzw_encoded = lzw_encode(text)\n",
    "#print(\"LZW :\", len(lzw_encoded), \"entiers\")"
   ]
  },
  {
   "cell_type": "code",
   "execution_count": 13,
   "id": "202f9306",
   "metadata": {},
   "outputs": [
    {
     "name": "stdout",
     "output_type": "stream",
     "text": [
      "Taille originale : 4297756 caractères\n",
      "Huffman : 2595917 octets environ\n",
      "LZW : 194363 entiers\n"
     ]
    }
   ],
   "source": [
    "with open('data/text_structured/accumulation-accounts-2008-2023-provisional.csv') as f:\n",
    "    text = f.read()\n",
    "print(\"Taille originale :\", len(text), \"caractères\")\n",
    "huff_encoded, huff_codes = huffman_encode(text)\n",
    "print(\"Huffman :\", len(huff_encoded) // 8, \"octets environ\")\n",
    "\n",
    "#bpe_encoded = bpe_encode(text, num_merges=100)\n",
    "#print(\"BPE :\", len(bpe_encoded), \"symboles (vs\", len(text), \"caractères)\")\n",
    "\n",
    "lzw_encoded = lzw_encode(text)\n",
    "print(\"LZW :\", len(lzw_encoded), \"entiers\")"
   ]
  }
 ],
 "metadata": {
  "kernelspec": {
   "display_name": "env",
   "language": "python",
   "name": "python3"
  },
  "language_info": {
   "codemirror_mode": {
    "name": "ipython",
    "version": 3
   },
   "file_extension": ".py",
   "mimetype": "text/x-python",
   "name": "python",
   "nbconvert_exporter": "python",
   "pygments_lexer": "ipython3",
   "version": "3.12.11"
  }
 },
 "nbformat": 4,
 "nbformat_minor": 5
}
