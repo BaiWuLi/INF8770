{
  "cells": [
    {
      "cell_type": "markdown",
      "metadata": {
        "colab_type": "text",
        "id": "view-in-github"
      },
      "source": [
        "<a href=\"https://colab.research.google.com/github/gabilodeau/INF8770/blob/master/Codage%20LZ77.ipynb\" target=\"_parent\"><img src=\"https://colab.research.google.com/assets/colab-badge.svg\" alt=\"Open In Colab\"/></a>"
      ]
    },
    {
      "cell_type": "markdown",
      "metadata": {
        "id": "ewoVov79hKE9"
      },
      "source": [
        "INF8770 Technologies multimédias\n",
        "\n",
        "Polytechnique Montréal\n",
        "\n",
        "Exemple de codage LZ77\n",
        "\n",
        "Code original par Hughes Perreault. Version Notebook par G.-A. Bilodeau"
      ]
    },
    {
      "cell_type": "markdown",
      "metadata": {
        "id": "aKnE9vhhhKE_"
      },
      "source": [
        "Message à compresser. Ici, une chaine de caractères."
      ]
    },
    {
      "cell_type": "code",
      "execution_count": 52,
      "metadata": {
        "id": "3Heq5COzhKFC"
      },
      "outputs": [],
      "source": [
        "file_name = f\"data/text_code/code1.py\"\n",
        "file_name = f'data/text_structured/accumulation-accounts-2008-2023-provisional.csv'\n",
        "message = open(file_name, \"r\").read()"
      ]
    },
    {
      "cell_type": "markdown",
      "metadata": {
        "id": "uc0ha1Y5hKFN"
      },
      "source": [
        "Paramètre de la méthode. Il faut choisir la taille du dictionnaire."
      ]
    },
    {
      "cell_type": "code",
      "execution_count": 53,
      "metadata": {
        "id": "jVNzq4dyhKFP"
      },
      "outputs": [],
      "source": [
        "tailleDict = 2000  # Taille du dictionnaire (0,1,2,3,...)"
      ]
    },
    {
      "cell_type": "markdown",
      "metadata": {
        "id": "399Nvkg5hKFX"
      },
      "source": [
        "Application du codage LZ77."
      ]
    },
    {
      "cell_type": "code",
      "execution_count": 54,
      "metadata": {
        "colab": {
          "base_uri": "https://localhost:8080/"
        },
        "id": "JHo8VEsChKFY",
        "outputId": "f53cd033-4475-47b6-91e6-40e61993f03c"
      },
      "outputs": [
        {
          "name": "stdout",
          "output_type": "stream",
          "text": [
            "Encoded into 398537 triplets.\n"
          ]
        }
      ],
      "source": [
        "triplets = []\n",
        "index = 0\n",
        "\n",
        "while index < len(message):\n",
        "    # Dictionary (sliding window)\n",
        "    start_dict = max(0, index - tailleDict)\n",
        "    symbDict = message[start_dict:index]\n",
        "    decalage = index - start_dict  # Actual length of dictionary\n",
        "\n",
        "    # Look-ahead buffer (limit how far ahead we search)\n",
        "    max_lookahead = 15\n",
        "    lookahead = message[index:index + max_lookahead]\n",
        "\n",
        "    # Find the longest match\n",
        "    pos, length = 0, 0\n",
        "    for l in range(len(lookahead), 0, -1):\n",
        "        sub = lookahead[:l]\n",
        "        found = symbDict.rfind(sub)\n",
        "        if found != -1:\n",
        "            pos = decalage - (len(symbDict) - found)\n",
        "            length = l\n",
        "            break\n",
        "\n",
        "    # Get the next char after the match (if within bounds)\n",
        "    next_char_index = index + length\n",
        "    if next_char_index < len(message):\n",
        "        c = message[next_char_index]\n",
        "    else:\n",
        "        c = ''  # End of file; no character to add\n",
        "\n",
        "    triplets.append((pos, length, c))\n",
        "\n",
        "    index += max(length + 1, 1)  # Always advance by at least 1\n",
        "print(f\"Encoded into {len(triplets)} triplets.\")"
      ]
    },
    {
      "cell_type": "markdown",
      "metadata": {
        "id": "FevmjX9ehKFh"
      },
      "source": [
        "Décodage du message. "
      ]
    },
    {
      "cell_type": "code",
      "execution_count": 55,
      "metadata": {
        "colab": {
          "base_uri": "https://localhost:8080/"
        },
        "id": "GYCw_0CRhKFi",
        "outputId": "16a1bb2f-00f0-4e68-d259-78c1ea0f1cab"
      },
      "outputs": [
        {
          "ename": "IndexError",
          "evalue": "string index out of range",
          "output_type": "error",
          "traceback": [
            "\u001b[31m---------------------------------------------------------------------------\u001b[39m",
            "\u001b[31mIndexError\u001b[39m                                Traceback (most recent call last)",
            "\u001b[36mCell\u001b[39m\u001b[36m \u001b[39m\u001b[32mIn[55]\u001b[39m\u001b[32m, line 12\u001b[39m\n\u001b[32m     10\u001b[39m         start = \u001b[38;5;28mmax\u001b[39m(\u001b[32m0\u001b[39m, \u001b[38;5;28mlen\u001b[39m(messageDecode) - tailleDict)\n\u001b[32m     11\u001b[39m         \u001b[38;5;28;01mfor\u001b[39;00m i \u001b[38;5;129;01min\u001b[39;00m \u001b[38;5;28mrange\u001b[39m(length):\n\u001b[32m---> \u001b[39m\u001b[32m12\u001b[39m             messageDecode += \u001b[43mmessageDecode\u001b[49m\u001b[43m[\u001b[49m\u001b[43mstart\u001b[49m\u001b[43m+\u001b[49m\u001b[43mpos\u001b[49m\u001b[43m-\u001b[49m\u001b[43mdecalage\u001b[49m\u001b[43m+\u001b[49m\u001b[43mi\u001b[49m\u001b[43m]\u001b[49m\n\u001b[32m     13\u001b[39m         messageDecode += char\n\u001b[32m     14\u001b[39m \u001b[38;5;28mprint\u001b[39m(messageDecode)\n",
            "\u001b[31mIndexError\u001b[39m: string index out of range"
          ]
        }
      ],
      "source": [
        "messageDecode = ''\n",
        "for triplet in triplets:\n",
        "    pos, length, char = triplet[0], triplet[1], triplet[2]\n",
        "    if (pos, length) == (0, 0):\n",
        "        messageDecode += char\n",
        "    else:\n",
        "        decalage = 0\n",
        "        if len(messageDecode) < tailleDict:\n",
        "          decalage = tailleDict - len(messageDecode) #Pour l'ajustement des indices de position quand le dictionnaire n'est pas plein.\n",
        "        start = max(0, len(messageDecode) - tailleDict)\n",
        "        for i in range(length):\n",
        "            messageDecode += messageDecode[start+pos-decalage+i]\n",
        "        messageDecode += char\n",
        "print(messageDecode)\n",
        "print(message == messageDecode)"
      ]
    },
    {
      "cell_type": "code",
      "execution_count": 56,
      "metadata": {
        "colab": {
          "base_uri": "https://localhost:8080/"
        },
        "id": "fIUY1RVAhKFn",
        "outputId": "774a1dcc-b351-4435-d238-3af49d0fd094"
      },
      "outputs": [
        {
          "name": "stdout",
          "output_type": "stream",
          "text": [
            "Taux de compression:  0.721805751652723\n",
            "Taille originale : 4297756 octets\n",
            "Taille compressée : 1195611 octets\n"
          ]
        }
      ],
      "source": [
        "print('Taux de compression: ', 1 - (len(triplets) * 3) / (len(message))) \n",
        "#On suppose des octets pour position, longueur\n",
        "print(f\"Taille originale : {len(message)} octets\")\n",
        "print(f\"Taille compressée : {len(triplets) * 3} octets\")"
      ]
    },
    {
      "cell_type": "code",
      "execution_count": null,
      "metadata": {
        "id": "xn8gDKpwhKFr"
      },
      "outputs": [],
      "source": []
    }
  ],
  "metadata": {
    "colab": {
      "include_colab_link": true,
      "name": "Codage LZ77.ipynb",
      "provenance": []
    },
    "kernelspec": {
      "display_name": "env",
      "language": "python",
      "name": "python3"
    },
    "language_info": {
      "codemirror_mode": {
        "name": "ipython",
        "version": 3
      },
      "file_extension": ".py",
      "mimetype": "text/x-python",
      "name": "python",
      "nbconvert_exporter": "python",
      "pygments_lexer": "ipython3",
      "version": "3.12.11"
    }
  },
  "nbformat": 4,
  "nbformat_minor": 0
}
